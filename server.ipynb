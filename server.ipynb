{
 "cells": [
  {
   "cell_type": "code",
   "execution_count": 1,
   "metadata": {},
   "outputs": [
    {
     "name": "stderr",
     "output_type": "stream",
     "text": [
      "ERROR: Invalid requirement: '#Instalo'\n"
     ]
    }
   ],
   "source": [
    "!python -m pip install elasticsearch-serverless #Instalo elastic search"
   ]
  },
  {
   "cell_type": "code",
   "execution_count": 2,
   "metadata": {},
   "outputs": [
    {
     "data": {
      "text/plain": [
       "ObjectApiResponse({'name': 'instance-0000000001', 'cluster_name': '981552c0928c4d58bf7864137169e760', 'cluster_uuid': 'n0xcKUAJQ5mbdVtwvZwygA', 'version': {'number': '8.13.2', 'build_flavor': 'default', 'build_type': 'docker', 'build_hash': '16cc90cd2d08a3147ce02b07e50894bc060a4cbf', 'build_date': '2024-04-05T14:45:26.420424304Z', 'build_snapshot': False, 'lucene_version': '9.10.0', 'minimum_wire_compatibility_version': '7.17.0', 'minimum_index_compatibility_version': '7.0.0'}, 'tagline': 'You Know, for Search'})"
      ]
     },
     "execution_count": 2,
     "metadata": {},
     "output_type": "execute_result"
    }
   ],
   "source": [
    "from elasticsearch_serverless import Elasticsearch\n",
    "\n",
    "#Me conecto a Elasticsearch por medio de la API\n",
    "client = Elasticsearch(\n",
    "    \"https://981552c0928c4d58bf7864137169e760.us-central1.gcp.cloud.es.io\",  # Mi endpoint de elastic search\n",
    "    api_key='X1Fjc09JOEJqSGEtVzhrdi03ZlA6ckt4Ny1uWnZTVmVOTU54WkdEZ2FQZw',  # API key de mi proyecto\n",
    ")\n",
    "client.info()\n"
   ]
  },
  {
   "cell_type": "code",
   "execution_count": 3,
   "metadata": {},
   "outputs": [
    {
     "data": {
      "text/plain": [
       "ObjectApiResponse({'errors': False, 'took': 9, 'items': [{'index': {'_index': 'employee', '_id': 'yMirOo8BGCaQSUCBljqR', '_version': 1, 'result': 'created', '_shards': {'total': 2, 'successful': 2, 'failed': 0}, '_seq_no': 38, '_primary_term': 1, 'status': 201}}, {'index': {'_index': 'employee', '_id': 'ycirOo8BGCaQSUCBljqR', '_version': 1, 'result': 'created', '_shards': {'total': 2, 'successful': 2, 'failed': 0}, '_seq_no': 39, '_primary_term': 1, 'status': 201}}, {'index': {'_index': 'employee', '_id': 'ysirOo8BGCaQSUCBljqR', '_version': 1, 'result': 'created', '_shards': {'total': 2, 'successful': 2, 'failed': 0}, '_seq_no': 40, '_primary_term': 1, 'status': 201}}, {'index': {'_index': 'employee', '_id': 'y8irOo8BGCaQSUCBljqR', '_version': 1, 'result': 'created', '_shards': {'total': 2, 'successful': 2, 'failed': 0}, '_seq_no': 41, '_primary_term': 1, 'status': 201}}, {'index': {'_index': 'employee', '_id': 'zMirOo8BGCaQSUCBljqR', '_version': 1, 'result': 'created', '_shards': {'total': 2, 'successful': 2, 'failed': 0}, '_seq_no': 42, '_primary_term': 1, 'status': 201}}, {'index': {'_index': 'employee', '_id': 'zcirOo8BGCaQSUCBljqR', '_version': 1, 'result': 'created', '_shards': {'total': 2, 'successful': 2, 'failed': 0}, '_seq_no': 43, '_primary_term': 1, 'status': 201}}, {'index': {'_index': 'employee', '_id': 'zsirOo8BGCaQSUCBljqR', '_version': 1, 'result': 'created', '_shards': {'total': 2, 'successful': 2, 'failed': 0}, '_seq_no': 44, '_primary_term': 1, 'status': 201}}, {'index': {'_index': 'employee', '_id': 'z8irOo8BGCaQSUCBljqR', '_version': 1, 'result': 'created', '_shards': {'total': 2, 'successful': 2, 'failed': 0}, '_seq_no': 45, '_primary_term': 1, 'status': 201}}, {'index': {'_index': 'employee', '_id': '0MirOo8BGCaQSUCBljqR', '_version': 1, 'result': 'created', '_shards': {'total': 2, 'successful': 2, 'failed': 0}, '_seq_no': 46, '_primary_term': 1, 'status': 201}}, {'index': {'_index': 'employee', '_id': '0cirOo8BGCaQSUCBljqR', '_version': 1, 'result': 'created', '_shards': {'total': 2, 'successful': 2, 'failed': 0}, '_seq_no': 47, '_primary_term': 1, 'status': 201}}, {'index': {'_index': 'employee', '_id': '0sirOo8BGCaQSUCBljqR', '_version': 1, 'result': 'created', '_shards': {'total': 2, 'successful': 2, 'failed': 0}, '_seq_no': 48, '_primary_term': 1, 'status': 201}}, {'index': {'_index': 'employee', '_id': '08irOo8BGCaQSUCBljqR', '_version': 1, 'result': 'created', '_shards': {'total': 2, 'successful': 2, 'failed': 0}, '_seq_no': 49, '_primary_term': 1, 'status': 201}}, {'index': {'_index': 'employee', '_id': '1MirOo8BGCaQSUCBljqR', '_version': 1, 'result': 'created', '_shards': {'total': 2, 'successful': 2, 'failed': 0}, '_seq_no': 50, '_primary_term': 1, 'status': 201}}, {'index': {'_index': 'employee', '_id': '1cirOo8BGCaQSUCBljqR', '_version': 1, 'result': 'created', '_shards': {'total': 2, 'successful': 2, 'failed': 0}, '_seq_no': 51, '_primary_term': 1, 'status': 201}}, {'index': {'_index': 'employee', '_id': '1sirOo8BGCaQSUCBljqR', '_version': 1, 'result': 'created', '_shards': {'total': 2, 'successful': 2, 'failed': 0}, '_seq_no': 52, '_primary_term': 1, 'status': 201}}, {'index': {'_index': 'employee', '_id': '18irOo8BGCaQSUCBljqR', '_version': 1, 'result': 'created', '_shards': {'total': 2, 'successful': 2, 'failed': 0}, '_seq_no': 53, '_primary_term': 1, 'status': 201}}, {'index': {'_index': 'employee', '_id': '2MirOo8BGCaQSUCBljqR', '_version': 1, 'result': 'created', '_shards': {'total': 2, 'successful': 2, 'failed': 0}, '_seq_no': 54, '_primary_term': 1, 'status': 201}}, {'index': {'_index': 'employee', '_id': '2cirOo8BGCaQSUCBljqR', '_version': 1, 'result': 'created', '_shards': {'total': 2, 'successful': 2, 'failed': 0}, '_seq_no': 55, '_primary_term': 1, 'status': 201}}]})"
      ]
     },
     "execution_count": 3,
     "metadata": {},
     "output_type": "execute_result"
    }
   ],
   "source": [
    "#Inserto indices formato JSON\n",
    "documents = [\n",
    "    {\"index\": {\"_index\": \"employee\"}}, {\"nombre\": \"Juan Pérez\", \"edad\": 35, \"sueldo\": 50000, \"ciudad\": \"Ciudad de México\", \"genero\": \"Masculino\", \"soft_skills\": [\"Comunicación\", \"Trabajo en equipo\"], \"tech_skills\": [\"Python\", \"SQL\", \"Django\"]},\n",
    "    {\"index\": {\"_index\": \"employee\"}}, {\"nombre\": \"María García\", \"edad\": 28, \"sueldo\": 45000, \"ciudad\": \"Buenos Aires\", \"genero\": \"Femenino\", \"soft_skills\": [\"Liderazgo\", \"Resolución de problemas\"], \"tech_skills\": [\"Java\", \"Spring\", \"MySQL\"]}, \n",
    "    {\"index\": {\"_index\": \"employee\"}}, {\"nombre\": \"Ana López\", \"edad\": 30, \"sueldo\": 55000, \"ciudad\": \"Madrid\", \"genero\": \"Femenino\", \"soft_skills\": [\"Creatividad\", \"Gestión del tiempo\"], \"tech_skills\": [\"JavaScript\", \"React\", \"Node.js\"]},\n",
    "    {\"index\": {\"_index\": \"employee\"}}, {\"nombre\": \"Carlos Rodríguez\", \"edad\": 40, \"sueldo\": 60000, \"ciudad\": \"Santiago\", \"genero\": \"Masculino\", \"soft_skills\": [\"Empatía\", \"Adaptabilidad\"], \"tech_skills\": [\"C#\", \"ASP.NET\", \"SQL Server\"]}, \n",
    "    {\"index\": {\"_index\": \"employee\"}}, {\"nombre\": \"Luisa Martinez\", \"edad\": 27, \"sueldo\": 48000, \"ciudad\": \"Bogotá\", \"genero\": \"Femenino\", \"soft_skills\": [\"Trabajo bajo presión\", \"Organización\"], \"tech_skills\": [\"Ruby\", \"Rails\", \"PostgreSQL\"]}, \n",
    "    {\"index\": {\"_index\": \"employee\"}}, {\"nombre\": \"David Pérez\", \"edad\": 33, \"sueldo\": 52000, \"ciudad\": \"Lima\", \"genero\": \"Masculino\", \"soft_skills\": [\"Resolución de conflictos\", \"Iniciativa\"], \"tech_skills\": [\"PHP\", \"Laravel\", \"MongoDB\"]}, \n",
    "    {\"index\": {\"_index\": \"employee\"}}, {\"nombre\": \"Laura Fernandez\", \"edad\": 29, \"sueldo\": 51000, \"ciudad\": \"Barcelona\", \"genero\": \"Femenino\", \"soft_skills\": [\"Resolución de problemas\", \"Colaboración\"], \"tech_skills\": [\"Python\", \"Flask\", \"SQLite\"]},\n",
    "    {\"index\": {\"_index\": \"employee\"}}, {\"nombre\": \"Pedro Gómez\", \"edad\": 37, \"sueldo\": 58000, \"ciudad\": \"Buenos Aires\", \"genero\": \"Masculino\", \"soft_skills\": [\"Comunicación\", \"Liderazgo\"], \"tech_skills\": [\"JavaScript\", \"Angular\", \"MongoDB\"]}, \n",
    "    {\"index\": {\"_index\": \"employee\"}}, {\"nombre\": \"Sofía Herrera\", \"edad\": 31, \"sueldo\": 56000, \"ciudad\": \"Ciudad de México\", \"genero\": \"Femenino\", \"soft_skills\": [\"Adaptabilidad\", \"Trabajo en equipo\"], \"tech_skills\": [\"Java\", \"Spring Boot\", \"MySQL\"]},\n",
    "    {\"index\": {\"_index\": \"employee\"}}, {\"nombre\": \"Miguel Sánchez\", \"edad\": 34, \"sueldo\": 57000, \"ciudad\": \"Lima\", \"genero\": \"Masculino\", \"soft_skills\": [\"Gestión del tiempo\", \"Empatía\"], \"tech_skills\": [\"C++\", \"Qt\", \"PostgreSQL\"]}, \n",
    "    {\"index\": {\"_index\": \"employee\"}}, {\"nombre\": \"Elena Vargas\", \"edad\": 32, \"sueldo\": 59000, \"ciudad\": \"Santiago\", \"genero\": \"Femenino\", \"soft_skills\": [\"Resolución de problemas\", \"Gestión del tiempo\"], \"tech_skills\": [\"Python\", \"Django\", \"PostgreSQL\"]},\n",
    "    {\"index\": {\"_index\": \"employee\"}}, {\"nombre\": \"Javier Ruiz\", \"edad\": 36, \"sueldo\": 62000, \"ciudad\": \"Madrid\", \"genero\": \"Masculino\", \"soft_skills\": [\"Trabajo en equipo\", \"Comunicación\"], \"tech_skills\": [\"JavaScript\", \"React\", \"Node.js\"]}, \n",
    "    {\"index\": {\"_index\": \"employee\"}}, {\"nombre\": \"Paula Diaz\", \"edad\": 25, \"sueldo\": 48000, \"ciudad\": \"Bogotá\", \"genero\": \"Femenino\", \"soft_skills\": [\"Adaptabilidad\", \"Creatividad\"], \"tech_skills\": [\"Java\", \"Spring\", \"MySQL\"]}, \n",
    "    {\"index\": {\"_index\": \"employee\"}}, {\"nombre\": \"Diego Castro\", \"edad\": 38, \"sueldo\": 63000, \"ciudad\": \"Buenos Aires\", \"genero\": \"Masculino\", \"soft_skills\": [\"Liderazgo\", \"Resolución de conflictos\"], \"tech_skills\": [\"C#\", \"ASP.NET\", \"SQL Server\"]}, \n",
    "    {\"index\": {\"_index\": \"employee\"}}, {\"nombre\": \"Lucía Torres\", \"edad\": 27, \"sueldo\": 50000, \"ciudad\": \"Ciudad de México\", \"genero\": \"Femenino\", \"soft_skills\": [\"Empatía\", \"Resolución de problemas\"], \"tech_skills\": [\"Ruby\", \"Rails\", \"SQLite\"]}, \n",
    "    {\"index\": {\"_index\": \"employee\"}}, {\"nombre\": \"Andrés Morales\", \"edad\": 33, \"sueldo\": 55000, \"ciudad\": \"Santiago\", \"genero\": \"Masculino\", \"soft_skills\": [\"Trabajo en equipo\", \"Comunicación\"], \"tech_skills\": [\"Python\", \"Flask\", \"MongoDB\"]}, \n",
    "    {\"index\": {\"_index\": \"employee\"}}, {\"nombre\": \"Carolina Silva\", \"edad\": 29, \"sueldo\": 52000, \"ciudad\": \"Lima\", \"genero\": \"Femenino\", \"soft_skills\": [\"Liderazgo\", \"Adaptabilidad\"], \"tech_skills\": [\"JavaScript\", \"Angular\", \"MongoDB\"]}, \n",
    "    {\"index\": {\"_index\": \"employee\"}}, {\"nombre\": \"Fernando Ortega\", \"edad\": 35, \"sueldo\": 57000, \"ciudad\": \"Madrid\",\"genero\":\"Masculino\",\"soft_skills\":[\"Resolución de problemas\",\"Gestión del tiempo\"],\"tech_skills\":[\"Java\",\"Spring Boot\",\"MySQL\"]}\n",
    "  ]\n",
    "                                        \n",
    "client.bulk(operations=documents)"
   ]
  },
  {
   "cell_type": "markdown",
   "metadata": {},
   "source": [
    "Búsqueda sobre los indices"
   ]
  },
  {
   "cell_type": "code",
   "execution_count": 4,
   "metadata": {},
   "outputs": [
    {
     "name": "stdout",
     "output_type": "stream",
     "text": [
      "Los empleados con más de 30 años son los siguientes:\n",
      "Javier Ruiz 36\n",
      "Juan Pérez 35\n",
      "Carlos Rodríguez 40\n",
      "David Pérez 33\n",
      "Pedro Gómez 37\n",
      "Sofía Herrera 31\n",
      "Miguel Sánchez 34\n",
      "Elena Vargas 32\n",
      "Javier Ruiz 36\n",
      "Diego Castro 38\n"
     ]
    }
   ],
   "source": [
    "\n",
    "# Realizar la búsqueda filtrando empleados con más de 30 años\n",
    "query = {\n",
    "    \"query\": {\n",
    "        \"range\": {\n",
    "            \"edad\": {\n",
    "                \"gt\": 30\n",
    "            }\n",
    "        }\n",
    "    }\n",
    "}\n",
    "\n",
    "# Realizar la búsqueda\n",
    "result = client.search(index=\"employee\", body=query)\n",
    "\n",
    "# Imprimir los resultados\n",
    "print(\"Los empleados con más de 30 años son los siguientes:\")\n",
    "for i in result[\"hits\"][\"hits\"]:\n",
    "    print(i[\"_source\"][\"nombre\"], i[\"_source\"][\"edad\"])\n"
   ]
  },
  {
   "cell_type": "code",
   "execution_count": 5,
   "metadata": {},
   "outputs": [
    {
     "name": "stdout",
     "output_type": "stream",
     "text": [
      "Empleados menores o iguales a 30 años con sueldo mayor a 50 mil pesos:\n",
      "Ana López 30 55000\n",
      "Laura Fernandez 29 51000\n",
      "Carolina Silva 29 52000\n",
      "Ana López 30 55000\n",
      "Laura Fernandez 29 51000\n",
      "Carolina Silva 29 52000\n",
      "Ana López 30 55000\n",
      "Laura Fernandez 29 51000\n",
      "Carolina Silva 29 52000\n"
     ]
    }
   ],
   "source": [
    "\n",
    "# Realizar la búsqueda filtrando empleados menores o iguales a 30 años con sueldo mayor a 50 mil pesos\n",
    "query = {\n",
    "    \"query\": {\n",
    "        \"bool\": {\n",
    "            \"must\": [\n",
    "                {\"range\": {\"edad\": {\"lte\": 30}}},\n",
    "                {\"range\": {\"sueldo\": {\"gt\": 50000}}}\n",
    "            ]\n",
    "        }\n",
    "    }\n",
    "}\n",
    "\n",
    "# Realizar la búsqueda\n",
    "result = client.search(index=\"employee\", body=query)\n",
    "\n",
    "# Imprimir los resultados\n",
    "print(\"Empleados menores o iguales a 30 años con sueldo mayor a 50 mil pesos:\")\n",
    "for hit in result[\"hits\"][\"hits\"]:\n",
    "    print(hit[\"_source\"][\"nombre\"], hit[\"_source\"][\"edad\"], hit[\"_source\"][\"sueldo\"])\n"
   ]
  },
  {
   "cell_type": "markdown",
   "metadata": {},
   "source": [
    "Generación archivo CVS logstash\n"
   ]
  },
  {
   "cell_type": "code",
   "execution_count": 27,
   "metadata": {},
   "outputs": [
    {
     "name": "stdout",
     "output_type": "stream",
     "text": [
      "Archivo CSV generado exitosamente.\n"
     ]
    },
    {
     "name": "stderr",
     "output_type": "stream",
     "text": [
      "C:\\Users\\filokaizen\\AppData\\Local\\Temp\\ipykernel_17636\\421775924.py:11: DeprecationWarning: Received 'size' via a specific parameter in the presence of a 'body' parameter, which is deprecated and will be removed in a future version. Instead, use only 'body' or only specific parameters.\n",
      "  result = client.search(index=\"employee*\", body=query, size=10000)\n"
     ]
    }
   ],
   "source": [
    "import csv\n",
    "\n",
    "# Consulta para obtener todos los documentos del índice employee-*\n",
    "query = {\n",
    "  \"query\": {\n",
    "    \"match_all\": {}\n",
    "  }\n",
    "}\n",
    "\n",
    "# Realizar la búsqueda en Elasticsearch\n",
    "result = client.search(index=\"employee*\", body=query, size=10000)\n",
    "\n",
    "# Abrir un archivo CSV en modo escritura\n",
    "with open('empleados.csv', mode='w', newline='', encoding='utf-8') as file:\n",
    "    writer = csv.writer(file)\n",
    "    # Escribir encabezados en el archivo CSV\n",
    "    writer.writerow([\"nombre\", \"ciudad\", \"sueldo\", \"tech_skills\"])\n",
    "    # Iterar sobre los resultados y escribir cada empleado en el archivo CSV\n",
    "    for hit in result['hits']['hits']:\n",
    "        empleado = hit['_source']\n",
    "        nombre = empleado.get('nombre', '')\n",
    "        ciudad = empleado.get('ciudad', '')\n",
    "        sueldo = empleado.get('sueldo', '')\n",
    "        tech_skills = ', '.join(empleado.get('tech_skills', []))\n",
    "        writer.writerow([nombre, ciudad, sueldo, tech_skills])\n",
    "\n",
    "print(\"Archivo CSV generado exitosamente.\")"
   ]
  }
 ],
 "metadata": {
  "kernelspec": {
   "display_name": "base",
   "language": "python",
   "name": "python3"
  },
  "language_info": {
   "codemirror_mode": {
    "name": "ipython",
    "version": 3
   },
   "file_extension": ".py",
   "mimetype": "text/x-python",
   "name": "python",
   "nbconvert_exporter": "python",
   "pygments_lexer": "ipython3",
   "version": "3.11.4"
  }
 },
 "nbformat": 4,
 "nbformat_minor": 2
}
