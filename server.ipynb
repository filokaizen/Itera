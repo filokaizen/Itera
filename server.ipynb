{
 "cells": [
  {
   "cell_type": "code",
   "execution_count": 7,
   "metadata": {},
   "outputs": [
    {
     "name": "stdout",
     "output_type": "stream",
     "text": [
      "Collecting elasticsearch-serverless\n",
      "  Obtaining dependency information for elasticsearch-serverless from https://files.pythonhosted.org/packages/24/33/6848bf71f3a7755a5bb620de789dd2f6e5ba8239f1966d34ee40f093e7bf/elasticsearch_serverless-0.2.0.20231031-py3-none-any.whl.metadata\n",
      "  Downloading elasticsearch_serverless-0.2.0.20231031-py3-none-any.whl.metadata (5.8 kB)\n",
      "Collecting elastic-transport<9,>=8.4.1 (from elasticsearch-serverless)\n",
      "  Obtaining dependency information for elastic-transport<9,>=8.4.1 from https://files.pythonhosted.org/packages/aa/2f/7606c450a4ba07cd8ba818845ea2dca880a76fad5536f6d038289713a619/elastic_transport-8.13.0-py3-none-any.whl.metadata\n",
      "  Downloading elastic_transport-8.13.0-py3-none-any.whl.metadata (3.7 kB)\n",
      "Requirement already satisfied: urllib3<3,>=1.26.2 in c:\\users\\filokaizen\\anaconda3\\lib\\site-packages (from elastic-transport<9,>=8.4.1->elasticsearch-serverless) (1.26.16)\n",
      "Requirement already satisfied: certifi in c:\\users\\filokaizen\\anaconda3\\lib\\site-packages (from elastic-transport<9,>=8.4.1->elasticsearch-serverless) (2023.7.22)\n",
      "Downloading elasticsearch_serverless-0.2.0.20231031-py3-none-any.whl (270 kB)\n",
      "   ---------------------------------------- 0.0/270.2 kB ? eta -:--:--\n",
      "   --------------------------------------- 270.2/270.2 kB 16.3 MB/s eta 0:00:00\n",
      "Downloading elastic_transport-8.13.0-py3-none-any.whl (64 kB)\n",
      "   ---------------------------------------- 0.0/64.3 kB ? eta -:--:--\n",
      "   ---------------------------------------- 64.3/64.3 kB 3.4 MB/s eta 0:00:00\n",
      "Installing collected packages: elastic-transport, elasticsearch-serverless\n",
      "Successfully installed elastic-transport-8.13.0 elasticsearch-serverless-0.2.0.20231031\n"
     ]
    }
   ],
   "source": [
    "!python -m pip install elasticsearch-serverless #Instalo elastic search"
   ]
  },
  {
   "cell_type": "code",
   "execution_count": 9,
   "metadata": {},
   "outputs": [
    {
     "data": {
      "text/plain": [
       "ObjectApiResponse({'name': 'instance-0000000000', 'cluster_name': '981552c0928c4d58bf7864137169e760', 'cluster_uuid': 'n0xcKUAJQ5mbdVtwvZwygA', 'version': {'number': '8.13.2', 'build_flavor': 'default', 'build_type': 'docker', 'build_hash': '16cc90cd2d08a3147ce02b07e50894bc060a4cbf', 'build_date': '2024-04-05T14:45:26.420424304Z', 'build_snapshot': False, 'lucene_version': '9.10.0', 'minimum_wire_compatibility_version': '7.17.0', 'minimum_index_compatibility_version': '7.0.0'}, 'tagline': 'You Know, for Search'})"
      ]
     },
     "execution_count": 9,
     "metadata": {},
     "output_type": "execute_result"
    }
   ],
   "source": [
    "from elasticsearch_serverless import Elasticsearch\n",
    "client = Elasticsearch(\n",
    "    \"https://981552c0928c4d58bf7864137169e760.us-central1.gcp.cloud.es.io\",  # Mi endpoint de elastic search\n",
    "    api_key='X1Fjc09JOEJqSGEtVzhrdi03ZlA6ckt4Ny1uWnZTVmVOTU54WkdEZ2FQZw',  # API key for your project\n",
    ")\n",
    "client.info()\n"
   ]
  },
  {
   "cell_type": "code",
   "execution_count": 20,
   "metadata": {},
   "outputs": [
    {
     "data": {
      "text/plain": [
       "ObjectApiResponse({'errors': False, 'took': 49, 'items': [{'index': {'_index': 'employee', '_id': 'AgdQOI8BjHa-W8kvi7hv', '_version': 1, 'result': 'created', '_shards': {'total': 2, 'successful': 2, 'failed': 0}, '_seq_no': 2, '_primary_term': 1, 'status': 201}}, {'index': {'_index': 'employee', '_id': 'AwdQOI8BjHa-W8kvi7hv', '_version': 1, 'result': 'created', '_shards': {'total': 2, 'successful': 2, 'failed': 0}, '_seq_no': 3, '_primary_term': 1, 'status': 201}}, {'index': {'_index': 'employee', '_id': 'BAdQOI8BjHa-W8kvi7hv', '_version': 1, 'result': 'created', '_shards': {'total': 2, 'successful': 2, 'failed': 0}, '_seq_no': 4, '_primary_term': 1, 'status': 201}}, {'index': {'_index': 'employee', '_id': 'BQdQOI8BjHa-W8kvi7hv', '_version': 1, 'result': 'created', '_shards': {'total': 2, 'successful': 2, 'failed': 0}, '_seq_no': 5, '_primary_term': 1, 'status': 201}}, {'index': {'_index': 'employee', '_id': 'BgdQOI8BjHa-W8kvi7hv', '_version': 1, 'result': 'created', '_shards': {'total': 2, 'successful': 2, 'failed': 0}, '_seq_no': 6, '_primary_term': 1, 'status': 201}}, {'index': {'_index': 'employee', '_id': 'BwdQOI8BjHa-W8kvi7hv', '_version': 1, 'result': 'created', '_shards': {'total': 2, 'successful': 2, 'failed': 0}, '_seq_no': 7, '_primary_term': 1, 'status': 201}}, {'index': {'_index': 'employee', '_id': 'CAdQOI8BjHa-W8kvi7hv', '_version': 1, 'result': 'created', '_shards': {'total': 2, 'successful': 2, 'failed': 0}, '_seq_no': 8, '_primary_term': 1, 'status': 201}}, {'index': {'_index': 'employee', '_id': 'CQdQOI8BjHa-W8kvi7hv', '_version': 1, 'result': 'created', '_shards': {'total': 2, 'successful': 2, 'failed': 0}, '_seq_no': 9, '_primary_term': 1, 'status': 201}}, {'index': {'_index': 'employee', '_id': 'CgdQOI8BjHa-W8kvi7hv', '_version': 1, 'result': 'created', '_shards': {'total': 2, 'successful': 2, 'failed': 0}, '_seq_no': 10, '_primary_term': 1, 'status': 201}}, {'index': {'_index': 'employee', '_id': 'CwdQOI8BjHa-W8kvi7hv', '_version': 1, 'result': 'created', '_shards': {'total': 2, 'successful': 2, 'failed': 0}, '_seq_no': 11, '_primary_term': 1, 'status': 201}}, {'index': {'_index': 'employee', '_id': 'DAdQOI8BjHa-W8kvi7hv', '_version': 1, 'result': 'created', '_shards': {'total': 2, 'successful': 2, 'failed': 0}, '_seq_no': 12, '_primary_term': 1, 'status': 201}}, {'index': {'_index': 'employee', '_id': 'DQdQOI8BjHa-W8kvi7hv', '_version': 1, 'result': 'created', '_shards': {'total': 2, 'successful': 2, 'failed': 0}, '_seq_no': 13, '_primary_term': 1, 'status': 201}}, {'index': {'_index': 'employee', '_id': 'DgdQOI8BjHa-W8kvi7hv', '_version': 1, 'result': 'created', '_shards': {'total': 2, 'successful': 2, 'failed': 0}, '_seq_no': 14, '_primary_term': 1, 'status': 201}}, {'index': {'_index': 'employee', '_id': 'DwdQOI8BjHa-W8kvi7hv', '_version': 1, 'result': 'created', '_shards': {'total': 2, 'successful': 2, 'failed': 0}, '_seq_no': 15, '_primary_term': 1, 'status': 201}}, {'index': {'_index': 'employee', '_id': 'EAdQOI8BjHa-W8kvi7hv', '_version': 1, 'result': 'created', '_shards': {'total': 2, 'successful': 2, 'failed': 0}, '_seq_no': 16, '_primary_term': 1, 'status': 201}}, {'index': {'_index': 'employee', '_id': 'EQdQOI8BjHa-W8kvi7hv', '_version': 1, 'result': 'created', '_shards': {'total': 2, 'successful': 2, 'failed': 0}, '_seq_no': 17, '_primary_term': 1, 'status': 201}}, {'index': {'_index': 'employee', '_id': 'EgdQOI8BjHa-W8kvi7hv', '_version': 1, 'result': 'created', '_shards': {'total': 2, 'successful': 2, 'failed': 0}, '_seq_no': 18, '_primary_term': 1, 'status': 201}}, {'index': {'_index': 'employee', '_id': 'EwdQOI8BjHa-W8kvi7hv', '_version': 1, 'result': 'created', '_shards': {'total': 2, 'successful': 2, 'failed': 0}, '_seq_no': 19, '_primary_term': 1, 'status': 201}}]})"
      ]
     },
     "execution_count": 20,
     "metadata": {},
     "output_type": "execute_result"
    }
   ],
   "source": [
    "\n",
    "documents = [\n",
    "    {\"index\": {\"_index\": \"employee\"}}, {\"nombre\": \"Juan Pérez\", \"edad\": 35, \"sueldo\": 50000, \"ciudad\": \"Ciudad de México\", \"genero\": \"Masculino\", \"soft_skills\": [\"Comunicación\", \"Trabajo en equipo\"], \"tech_skills\": [\"Python\", \"SQL\", \"Django\"]},\n",
    "    {\"index\": {\"_index\": \"employee\"}}, {\"nombre\": \"María García\", \"edad\": 28, \"sueldo\": 45000, \"ciudad\": \"Buenos Aires\", \"genero\": \"Femenino\", \"soft_skills\": [\"Liderazgo\", \"Resolución de problemas\"], \"tech_skills\": [\"Java\", \"Spring\", \"MySQL\"]}, \n",
    "    {\"index\": {\"_index\": \"employee\"}}, {\"nombre\": \"Ana López\", \"edad\": 30, \"sueldo\": 55000, \"ciudad\": \"Madrid\", \"genero\": \"Femenino\", \"soft_skills\": [\"Creatividad\", \"Gestión del tiempo\"], \"tech_skills\": [\"JavaScript\", \"React\", \"Node.js\"]},\n",
    "    {\"index\": {\"_index\": \"employee\"}}, {\"nombre\": \"Carlos Rodríguez\", \"edad\": 40, \"sueldo\": 60000, \"ciudad\": \"Santiago\", \"genero\": \"Masculino\", \"soft_skills\": [\"Empatía\", \"Adaptabilidad\"], \"tech_skills\": [\"C#\", \"ASP.NET\", \"SQL Server\"]}, \n",
    "    {\"index\": {\"_index\": \"employee\"}}, {\"nombre\": \"Luisa Martinez\", \"edad\": 27, \"sueldo\": 48000, \"ciudad\": \"Bogotá\", \"genero\": \"Femenino\", \"soft_skills\": [\"Trabajo bajo presión\", \"Organización\"], \"tech_skills\": [\"Ruby\", \"Rails\", \"PostgreSQL\"]}, \n",
    "    {\"index\": {\"_index\": \"employee\"}}, {\"nombre\": \"David Pérez\", \"edad\": 33, \"sueldo\": 52000, \"ciudad\": \"Lima\", \"genero\": \"Masculino\", \"soft_skills\": [\"Resolución de conflictos\", \"Iniciativa\"], \"tech_skills\": [\"PHP\", \"Laravel\", \"MongoDB\"]}, \n",
    "    {\"index\": {\"_index\": \"employee\"}}, {\"nombre\": \"Laura Fernandez\", \"edad\": 29, \"sueldo\": 51000, \"ciudad\": \"Barcelona\", \"genero\": \"Femenino\", \"soft_skills\": [\"Resolución de problemas\", \"Colaboración\"], \"tech_skills\": [\"Python\", \"Flask\", \"SQLite\"]},\n",
    "    {\"index\": {\"_index\": \"employee\"}}, {\"nombre\": \"Pedro Gómez\", \"edad\": 37, \"sueldo\": 58000, \"ciudad\": \"Buenos Aires\", \"genero\": \"Masculino\", \"soft_skills\": [\"Comunicación\", \"Liderazgo\"], \"tech_skills\": [\"JavaScript\", \"Angular\", \"MongoDB\"]}, \n",
    "    {\"index\": {\"_index\": \"employee\"}}, {\"nombre\": \"Sofía Herrera\", \"edad\": 31, \"sueldo\": 56000, \"ciudad\": \"Ciudad de México\", \"genero\": \"Femenino\", \"soft_skills\": [\"Adaptabilidad\", \"Trabajo en equipo\"], \"tech_skills\": [\"Java\", \"Spring Boot\", \"MySQL\"]},\n",
    "    {\"index\": {\"_index\": \"employee\"}}, {\"nombre\": \"Miguel Sánchez\", \"edad\": 34, \"sueldo\": 57000, \"ciudad\": \"Lima\", \"genero\": \"Masculino\", \"soft_skills\": [\"Gestión del tiempo\", \"Empatía\"], \"tech_skills\": [\"C++\", \"Qt\", \"PostgreSQL\"]}, \n",
    "    {\"index\": {\"_index\": \"employee\"}}, {\"nombre\": \"Elena Vargas\", \"edad\": 32, \"sueldo\": 59000, \"ciudad\": \"Santiago\", \"genero\": \"Femenino\", \"soft_skills\": [\"Resolución de problemas\", \"Gestión del tiempo\"], \"tech_skills\": [\"Python\", \"Django\", \"PostgreSQL\"]},\n",
    "    {\"index\": {\"_index\": \"employee\"}}, {\"nombre\": \"Javier Ruiz\", \"edad\": 36, \"sueldo\": 62000, \"ciudad\": \"Madrid\", \"genero\": \"Masculino\", \"soft_skills\": [\"Trabajo en equipo\", \"Comunicación\"], \"tech_skills\": [\"JavaScript\", \"React\", \"Node.js\"]}, \n",
    "    {\"index\": {\"_index\": \"employee\"}}, {\"nombre\": \"Paula Diaz\", \"edad\": 25, \"sueldo\": 48000, \"ciudad\": \"Bogotá\", \"genero\": \"Femenino\", \"soft_skills\": [\"Adaptabilidad\", \"Creatividad\"], \"tech_skills\": [\"Java\", \"Spring\", \"MySQL\"]}, \n",
    "    {\"index\": {\"_index\": \"employee\"}}, {\"nombre\": \"Diego Castro\", \"edad\": 38, \"sueldo\": 63000, \"ciudad\": \"Buenos Aires\", \"genero\": \"Masculino\", \"soft_skills\": [\"Liderazgo\", \"Resolución de conflictos\"], \"tech_skills\": [\"C#\", \"ASP.NET\", \"SQL Server\"]}, \n",
    "    {\"index\": {\"_index\": \"employee\"}}, {\"nombre\": \"Lucía Torres\", \"edad\": 27, \"sueldo\": 50000, \"ciudad\": \"Ciudad de México\", \"genero\": \"Femenino\", \"soft_skills\": [\"Empatía\", \"Resolución de problemas\"], \"tech_skills\": [\"Ruby\", \"Rails\", \"SQLite\"]}, \n",
    "    {\"index\": {\"_index\": \"employee\"}}, {\"nombre\": \"Andrés Morales\", \"edad\": 33, \"sueldo\": 55000, \"ciudad\": \"Santiago\", \"genero\": \"Masculino\", \"soft_skills\": [\"Trabajo en equipo\", \"Comunicación\"], \"tech_skills\": [\"Python\", \"Flask\", \"MongoDB\"]}, \n",
    "    {\"index\": {\"_index\": \"employee\"}}, {\"nombre\": \"Carolina Silva\", \"edad\": 29, \"sueldo\": 52000, \"ciudad\": \"Lima\", \"genero\": \"Femenino\", \"soft_skills\": [\"Liderazgo\", \"Adaptabilidad\"], \"tech_skills\": [\"JavaScript\", \"Angular\", \"MongoDB\"]}, \n",
    "    {\"index\": {\"_index\": \"employee\"}}, {\"nombre\": \"Fernando Ortega\", \"edad\": 35, \"sueldo\": 57000, \"ciudad\": \"Madrid\",\"genero\":\"Masculino\",\"soft_skills\":[\"Resolución de problemas\",\"Gestión del tiempo\"],\"tech_skills\":[\"Java\",\"Spring Boot\",\"MySQL\"]}\n",
    "  ]\n",
    "                                        \n",
    "client.bulk(operations=documents)"
   ]
  },
  {
   "cell_type": "markdown",
   "metadata": {},
   "source": [
    "Búsqueda sobre los indices"
   ]
  },
  {
   "cell_type": "code",
   "execution_count": 24,
   "metadata": {},
   "outputs": [
    {
     "name": "stdout",
     "output_type": "stream",
     "text": [
      "Empleados con más de 30 años:\n",
      "Javier Ruiz 36\n",
      "Juan Pérez 35\n",
      "Carlos Rodríguez 40\n",
      "David Pérez 33\n",
      "Pedro Gómez 37\n",
      "Sofía Herrera 31\n",
      "Miguel Sánchez 34\n",
      "Elena Vargas 32\n",
      "Javier Ruiz 36\n",
      "Diego Castro 38\n"
     ]
    }
   ],
   "source": [
    "\n",
    "# Realizar la búsqueda filtrando empleados con más de 30 años\n",
    "query = {\n",
    "    \"query\": {\n",
    "        \"range\": {\n",
    "            \"edad\": {\n",
    "                \"gt\": 30\n",
    "            }\n",
    "        }\n",
    "    }\n",
    "}\n",
    "\n",
    "# Realizar la búsqueda\n",
    "result = client.search(index=\"employee\", body=query)\n",
    "\n",
    "# Imprimir los resultados\n",
    "print(\"Empleados con más de 30 años:\")\n",
    "for hit in result[\"hits\"][\"hits\"]:\n",
    "    print(hit[\"_source\"][\"nombre\"], hit[\"_source\"][\"edad\"])\n"
   ]
  },
  {
   "cell_type": "code",
   "execution_count": 25,
   "metadata": {},
   "outputs": [
    {
     "name": "stdout",
     "output_type": "stream",
     "text": [
      "Empleados menores o iguales a 30 años con sueldo mayor a 50 mil pesos:\n",
      "Ana López 30 55000\n",
      "Laura Fernandez 29 51000\n",
      "Carolina Silva 29 52000\n"
     ]
    }
   ],
   "source": [
    "\n",
    "# Realizar la búsqueda filtrando empleados menores o iguales a 30 años con sueldo mayor a 50 mil pesos\n",
    "query = {\n",
    "    \"query\": {\n",
    "        \"bool\": {\n",
    "            \"must\": [\n",
    "                {\"range\": {\"edad\": {\"lte\": 30}}},\n",
    "                {\"range\": {\"sueldo\": {\"gt\": 50000}}}\n",
    "            ]\n",
    "        }\n",
    "    }\n",
    "}\n",
    "\n",
    "# Realizar la búsqueda\n",
    "result = client.search(index=\"employee\", body=query)\n",
    "\n",
    "# Imprimir los resultados\n",
    "print(\"Empleados menores o iguales a 30 años con sueldo mayor a 50 mil pesos:\")\n",
    "for hit in result[\"hits\"][\"hits\"]:\n",
    "    print(hit[\"_source\"][\"nombre\"], hit[\"_source\"][\"edad\"], hit[\"_source\"][\"sueldo\"])\n"
   ]
  }
 ],
 "metadata": {
  "kernelspec": {
   "display_name": "base",
   "language": "python",
   "name": "python3"
  },
  "language_info": {
   "codemirror_mode": {
    "name": "ipython",
    "version": 3
   },
   "file_extension": ".py",
   "mimetype": "text/x-python",
   "name": "python",
   "nbconvert_exporter": "python",
   "pygments_lexer": "ipython3",
   "version": "3.11.4"
  }
 },
 "nbformat": 4,
 "nbformat_minor": 2
}
